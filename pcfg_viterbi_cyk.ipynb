{
 "cells": [
  {
   "cell_type": "code",
   "execution_count": 1,
   "id": "f22004fb",
   "metadata": {},
   "outputs": [],
   "source": [
    "#PCFG using viterbi\n",
    "from nltk import PCFG, ViterbiParser, InsideChartParser\n",
    "import numpy as np\n",
    "import pandas as pd"
   ]
  },
  {
   "cell_type": "code",
   "execution_count": 2,
   "id": "b69525cd",
   "metadata": {},
   "outputs": [],
   "source": [
    "grammar= PCFG.fromstring(\"\"\"\n",
    "S -> NP VP [1.0]\n",
    "VP -> V NP [0.7] | VP PP [0.3]\n",
    "NP -> Det N [0.5] | NP PP [0.2] | 'John' [0.3]\n",
    "PP -> P NP [1.0]\n",
    "V -> 'saw' [0.2] | 'ate' [0.8]\n",
    "Det -> 'the' [0.6] | 'a' [0.4]\n",
    "N -> 'man' [0.5] | 'telescope' [0.5]\n",
    "P -> 'with' [0.4] | 'in' [0.6]\n",
    "\"\"\")\n",
    "\n",
    "#create viterbi parser\n",
    "parser= ViterbiParser(grammar)\n",
    "\n",
    "#parse a sentence\n",
    "sentence= \"John saw a man with a telescope\"\n",
    "tokens= sentence.split()"
   ]
  },
  {
   "cell_type": "code",
   "execution_count": 3,
   "id": "aa7b5b6d",
   "metadata": {},
   "outputs": [
    {
     "name": "stdout",
     "output_type": "stream",
     "text": [
      "(S\n",
      "  (NP John)\n",
      "  (VP\n",
      "    (VP (V saw) (NP (Det a) (N man)))\n",
      "    (PP (P with) (NP (Det a) (N telescope))))) (p=5.04e-05)\n"
     ]
    }
   ],
   "source": [
    "for tree in parser.parse(tokens):\n",
    "    print(tree)"
   ]
  },
  {
   "cell_type": "code",
   "execution_count": 5,
   "id": "55bfce0e",
   "metadata": {},
   "outputs": [
    {
     "name": "stdout",
     "output_type": "stream",
     "text": [
      "(S\n",
      "  (NP John)\n",
      "  (VP\n",
      "    (VP (V saw) (NP (Det a) (N man)))\n",
      "    (PP (P with) (NP (Det a) (N telescope))))) (p=5.04e-05)\n",
      "(S\n",
      "  (NP John)\n",
      "  (VP\n",
      "    (V saw)\n",
      "    (NP\n",
      "      (NP (Det a) (N man))\n",
      "      (PP (P with) (NP (Det a) (N telescope)))))) (p=3.36e-05)\n"
     ]
    }
   ],
   "source": [
    "#create a insidechart parser\n",
    "parser=InsideChartParser(grammar)\n",
    "sentence= \"John saw a man with a telescope\"\n",
    "tokens= sentence.split()\n",
    "for tree in parser.parse(tokens):\n",
    "    print(tree)"
   ]
  },
  {
   "cell_type": "code",
   "execution_count": 7,
   "id": "4cc8b77e",
   "metadata": {},
   "outputs": [
    {
     "name": "stdout",
     "output_type": "stream",
     "text": [
      "                  S                    \n",
      "      ____________|____                 \n",
      "     |                 VP              \n",
      "     |        _________|___             \n",
      "     |       |             NP          \n",
      "     |       |     ________|____        \n",
      "     |       |    |             PP     \n",
      "     |       |    |         ____|___    \n",
      "     NP      V    NP       P        NP \n",
      "     |       |    |        |        |   \n",
      "astronomers saw stars     with     ears\n",
      "\n"
     ]
    }
   ],
   "source": [
    "import nltk\n",
    "from nltk.grammar import PCFG\n",
    "from nltk.parse.viterbi import ViterbiParser\n",
    "from nltk.tree import Tree\n",
    "\n",
    "grammar = PCFG.fromstring(\"\"\"\n",
    "    S -> NP VP [1.0]\n",
    "    PP -> P NP [1.0]\n",
    "    VP -> V NP [0.7] | VP PP [0.3]\n",
    "    P -> 'with' [1.0]\n",
    "    V -> 'saw' [1.0]\n",
    "    NP -> NP PP [0.4] |'astronomers' [0.1] | 'ears' [0.18] | 'saw' [0.04] | 'stars' [0.18] | 'telescope' [0.1]\n",
    "\"\"\")\n",
    "\n",
    "parser=ViterbiParser(grammar)\n",
    "sentence = \"astronomers saw stars with ears\"\n",
    "tokens=sentence.split()\n",
    "for tree in parser.parse(tokens):\n",
    "    tree.pretty_print()"
   ]
  },
  {
   "cell_type": "code",
   "execution_count": 8,
   "id": "6e4c1885",
   "metadata": {},
   "outputs": [],
   "source": [
    "#CYK pcfg\n",
    "\n",
    "import numpy as np\n",
    "import nltk\n",
    "\n",
    "pcfg= PCFG.fromstring(\"\"\"\n",
    "S -> NP VP [0.9]\n",
    " S -> VP [0.1]\n",
    " VP -> V NP [0.5]\n",
    " VP -> V [0.5]\n",
    " NP -> Det N [0.3]\n",
    " NP -> N [0.7]\n",
    " N -> 'cat' [0.2]\n",
    " N -> 'book' [0.2]\n",
    " N -> 'bird' [0.2]\n",
    " N -> 'dog' [0.4]\n",
    " V -> 'read' [0.1]\n",
    " V -> 'chased' [0.6]\n",
    " V -> 'ate' [0.3]\n",
    " Det -> 'the' [0.5]\n",
    " Det -> 'a' [0.5]\n",
    "\"\"\")\n",
    "\n",
    "sentences=[\n",
    " \"the cat chased the dog\",\n",
    " \"the dog chased the cat\",\n",
    " \"the dog chased the bird\",\n",
    " \"Book read\"\n",
    "]\n"
   ]
  },
  {
   "cell_type": "code",
   "execution_count": 9,
   "id": "f0730083",
   "metadata": {},
   "outputs": [],
   "source": [
    "sentence= \"the cat chased the dog\".split()\n",
    "\n",
    "def cyk_parse_with_probability(pcfg,sentence):\n",
    "    n=len(sentence)\n",
    "    \n",
    "    #creating the table\n",
    "    table =[[[] for _ in range(n)] for _ in range(n)]\n",
    "    \n",
    "    #initialize the table with production probabilities\n",
    "    for i in range(n):\n",
    "        for prod in pcfg.productions(rhs=sentence[i]):\n",
    "            table[i][i] = [(prod.lhs(),prod.prob())]\n",
    "    \n",
    "    #for longer substrings\n",
    "    for length in range(2,n+1):\n",
    "        for i in range(n-length+1):\n",
    "            j= i+length -1\n",
    "            for k in range(i,j):\n",
    "                for prod in pcfg.productions():\n",
    "                    for left,left_prob in table[i][k]:\n",
    "                        for right,right_prob in table[k+1][j]:\n",
    "                            if prod.rhs() == (left,right):\n",
    "                                prob= left_prob *right_prob*prod.prob()\n",
    "                                if table[i][j] is None:\n",
    "                                    table[i][j] = [(prod.lhs(),prob)]\n",
    "                                else:\n",
    "                                    table[i][j].append((prod.lhs(),prob))\n",
    "\n",
    "    if pcfg.start() in [lhs for lhs,prob in table[0][n-1]]:\n",
    "        for lhs,prob in table[0][n-1]:\n",
    "            if lhs ==pcfg.start():\n",
    "                return prob\n",
    "        return 0.0\n",
    "    "
   ]
  },
  {
   "cell_type": "code",
   "execution_count": 12,
   "id": "7081109e",
   "metadata": {},
   "outputs": [
    {
     "name": "stdout",
     "output_type": "stream",
     "text": [
      "The sentence \"the cat chased the dog\" is grammatically correct with a probability of: 0.00048599999999999994\n",
      "The sentence \"the dog chased the cat\" is grammatically correct with a probability of: 0.00048599999999999994\n",
      "The sentence \"the dog chased the bird\" is grammatically correct with a probability of: 0.00048599999999999994\n"
     ]
    },
    {
     "ename": "TypeError",
     "evalue": "'>' not supported between instances of 'NoneType' and 'int'",
     "output_type": "error",
     "traceback": [
      "\u001b[1;31m---------------------------------------------------------------------------\u001b[0m",
      "\u001b[1;31mTypeError\u001b[0m                                 Traceback (most recent call last)",
      "Cell \u001b[1;32mIn[12], line 4\u001b[0m\n\u001b[0;32m      2\u001b[0m \u001b[38;5;28;01mfor\u001b[39;00m sent \u001b[38;5;129;01min\u001b[39;00m sentences:\n\u001b[0;32m      3\u001b[0m     prob \u001b[38;5;241m=\u001b[39m cyk_parse_with_probability(pcfg,sent\u001b[38;5;241m.\u001b[39mlower()\u001b[38;5;241m.\u001b[39msplit())\n\u001b[1;32m----> 4\u001b[0m     \u001b[38;5;28;01mif\u001b[39;00m prob \u001b[38;5;241m>\u001b[39m \u001b[38;5;241m0\u001b[39m:\n\u001b[0;32m      5\u001b[0m          \u001b[38;5;28mprint\u001b[39m(\u001b[38;5;124mf\u001b[39m\u001b[38;5;124m'\u001b[39m\u001b[38;5;124mThe sentence \u001b[39m\u001b[38;5;124m\"\u001b[39m\u001b[38;5;132;01m{\u001b[39;00msent\u001b[38;5;132;01m}\u001b[39;00m\u001b[38;5;124m\"\u001b[39m\u001b[38;5;124m is grammatically correct with a probability of:\u001b[39m\u001b[38;5;124m'\u001b[39m, prob)\n\u001b[0;32m      6\u001b[0m     \u001b[38;5;28;01melse\u001b[39;00m:\n",
      "\u001b[1;31mTypeError\u001b[0m: '>' not supported between instances of 'NoneType' and 'int'"
     ]
    }
   ],
   "source": [
    "##Parse the sentence and calculate the probability\n",
    "for sent in sentences:\n",
    "    prob = cyk_parse_with_probability(pcfg,sent.lower().split())\n",
    "    if prob > 0:\n",
    "         print(f'The sentence \"{sent}\" is grammatically correct with a probability of:',\n",
    "               prob)\n",
    "    else:\n",
    "         print(f\"The sentence \\\"{sent}\\\" is not grammatically correct.\")"
   ]
  },
  {
   "cell_type": "code",
   "execution_count": null,
   "id": "0d0e705f",
   "metadata": {},
   "outputs": [],
   "source": []
  }
 ],
 "metadata": {
  "kernelspec": {
   "display_name": "Python 3 (ipykernel)",
   "language": "python",
   "name": "python3"
  },
  "language_info": {
   "codemirror_mode": {
    "name": "ipython",
    "version": 3
   },
   "file_extension": ".py",
   "mimetype": "text/x-python",
   "name": "python",
   "nbconvert_exporter": "python",
   "pygments_lexer": "ipython3",
   "version": "3.11.4"
  }
 },
 "nbformat": 4,
 "nbformat_minor": 5
}
