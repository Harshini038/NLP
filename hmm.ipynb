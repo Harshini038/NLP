{
 "cells": [
  {
   "cell_type": "code",
   "execution_count": 1,
   "id": "cc8bdf3e",
   "metadata": {},
   "outputs": [],
   "source": [
    "import numpy as np"
   ]
  },
  {
   "cell_type": "code",
   "execution_count": 2,
   "id": "d3360b65",
   "metadata": {},
   "outputs": [],
   "source": [
    "states =['H','L']\n",
    "observations = ['A','C','G','T']\n",
    "obs_seq =['G','G','C','A']"
   ]
  },
  {
   "cell_type": "code",
   "execution_count": 3,
   "id": "0e0062d6",
   "metadata": {},
   "outputs": [],
   "source": [
    "start_prob = {'H': 0.5, 'L': 0.5}\n",
    "trans_prob = {\n",
    "    'H': {'H': 0.5, 'L': 0.5},\n",
    "    'L': {'H': 0.4, 'L': 0.6}\n",
    "}\n",
    "emission_prob = {\n",
    "    'H': {'A': 0.2, 'C': 0.3, 'G': 0.3, 'T': 0.2},\n",
    "    'L': {'A': 0.3, 'C': 0.2, 'G': 0.2, 'T': 0.3}\n",
    "}"
   ]
  },
  {
   "cell_type": "code",
   "execution_count": 4,
   "id": "05f3362f",
   "metadata": {},
   "outputs": [],
   "source": [
    "def forward(obs_seq):\n",
    "    fwd = [{}]\n",
    "    for state in states:\n",
    "        fwd[0][state] = start_prob[state] * emission_prob[state][obs_seq[0]]\n",
    "    for t in range(1, len(obs_seq)):\n",
    "        fwd.append({})\n",
    "        for state in states:\n",
    "            fwd[t][state] = sum(fwd[t-1][prev_state] * trans_prob[prev_state][state] * emission_prob[state][obs_seq[t]] for prev_state in states)\n",
    "    return fwd"
   ]
  },
  {
   "cell_type": "code",
   "execution_count": 5,
   "id": "40427924",
   "metadata": {},
   "outputs": [],
   "source": [
    "# Backward procedure\n",
    "def backward(obs_seq):\n",
    "    bwd = [{} for _ in range(len(obs_seq))]\n",
    "    for state in states:\n",
    "        bwd[-1][state] = 1\n",
    "    for t in range(len(obs_seq)-2, -1, -1):\n",
    "        bwd[t] = {}\n",
    "        for state in states:\n",
    "            bwd[t][state] = sum(bwd[t+1][next_state] * trans_prob[state][next_state] * emission_prob[next_state][obs_seq[t+1]] for next_state in states)\n",
    "    return bwd"
   ]
  },
  {
   "cell_type": "code",
   "execution_count": 6,
   "id": "bd6cfc09",
   "metadata": {},
   "outputs": [
    {
     "name": "stdout",
     "output_type": "stream",
     "text": [
      "Forward Probabilities:\n",
      "{'H': 0.15, 'L': 0.1}\n",
      "{'H': 0.0345, 'L': 0.027}\n",
      "{'H': 0.008415, 'L': 0.00669}\n",
      "{'H': 0.0013767000000000002, 'L': 0.00246645}\n",
      "\n",
      "Backward Probabilities:\n",
      "{'H': 0.015645, 'L': 0.014964000000000002}\n",
      "{'H': 0.0635, 'L': 0.061200000000000004}\n",
      "{'H': 0.25, 'L': 0.26}\n",
      "{'H': 1, 'L': 1}\n"
     ]
    }
   ],
   "source": [
    "fwd = forward(obs_seq)\n",
    "bwd = backward(obs_seq)\n",
    "\n",
    "print(\"Forward Probabilities:\")\n",
    "for t in range(len(fwd)):\n",
    "    print(fwd[t])\n",
    "print(\"\\nBackward Probabilities:\")\n",
    "for t in range(len(bwd)):\n",
    "    print(bwd[t])"
   ]
  },
  {
   "cell_type": "code",
   "execution_count": null,
   "id": "a403cecb",
   "metadata": {},
   "outputs": [],
   "source": []
  }
 ],
 "metadata": {
  "kernelspec": {
   "display_name": "Python 3",
   "language": "python",
   "name": "python3"
  },
  "language_info": {
   "codemirror_mode": {
    "name": "ipython",
    "version": 3
   },
   "file_extension": ".py",
   "mimetype": "text/x-python",
   "name": "python",
   "nbconvert_exporter": "python",
   "pygments_lexer": "ipython3",
   "version": "3.8.8"
  }
 },
 "nbformat": 4,
 "nbformat_minor": 5
}
